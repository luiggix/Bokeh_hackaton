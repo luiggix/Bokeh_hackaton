{
 "cells": [
  {
   "cell_type": "code",
   "execution_count": 7,
   "id": "24e36364-e437-406e-983c-f91afa10d257",
   "metadata": {},
   "outputs": [],
   "source": [
    "import numpy as np\n",
    "import pandas as pd \n",
    "\n",
    "from bokeh.plotting import figure\n",
    "from bokeh.io import output_notebook, show\n",
    "from bokeh.models import ColumnDataSource\n",
    "from bokeh.models.tools import HoverTool\n",
    "from bokeh.models.annotations import Span\n",
    "\n",
    "#output_notebook()"
   ]
  },
  {
   "cell_type": "code",
   "execution_count": 8,
   "id": "dd0a800a-1efa-4e0a-bbb9-46b73baa0f24",
   "metadata": {},
   "outputs": [],
   "source": [
    "TFR = pd.read_csv('Datos/UNdata_Export_20230621_205538168.zip')\n",
    "TFR_group = TFR.groupby('Country or Area')\n",
    "\n",
    "def plot_country(dfg, label, color, lw):\n",
    "    maxim = 2021\n",
    "    country = dfg.get_group(label)\n",
    "    \n",
    "    cc = country[country['Year(s)']>=maxim-1]\n",
    "    p.line(y='Value', x='Year(s)', color=color, source = cc, line_width=lw, line_dash=\"dashed\")\n",
    "\n",
    "    cc = country[country['Year(s)']<maxim]\n",
    "    p.line(y='Value', x='Year(s)', color=color, source = cc, line_width=lw)"
   ]
  },
  {
   "cell_type": "code",
   "execution_count": 9,
   "id": "fd16bac4-f9e5-41cb-9d58-9112c8e5ed14",
   "metadata": {},
   "outputs": [],
   "source": [
    "title = 'Evolución del TFR (Total Fertility Rate)'\n",
    "p = figure(title=title, width=300, height=300)\n",
    "\n",
    "p.line(y='Value', x='Year(s)', color='silver', source = TFR, line_width=0.75)\n",
    "\n",
    "#for kpais in TFR_group.groups.keys():\n",
    "#    plot_country(TFR_group, kpais, 'silver', lw=0.75)\n",
    "    \n",
    "plot_country(TFR_group, 'Mexico', 'forestgreen', lw= 2.0)\n",
    "plot_country(TFR_group, 'Niger', 'darkred', lw= 2.0)\n",
    "plot_country(TFR_group, 'Japan', 'mediumblue', lw= 2.0)\n",
    "plot_country(TFR_group, 'World', 'black', lw= 2.0)\n",
    "\n",
    "upper = Span(location=2.1, dimension='width', \n",
    "             line_color='black', line_width=1.0, line_dash=\"dashed\")\n",
    "p.add_layout(upper)\n",
    "\n",
    "hover = HoverTool()\n",
    "hover.tooltips=[\n",
    "    ('TFR Value', '@Value'),\n",
    "    ('País', \"@{Country or Area}\"),\n",
    "    ('Year', '@{Year(s)}')\n",
    "]\n",
    "\n",
    "p.add_tools(hover)\n",
    "\n",
    "p.xaxis.major_label_orientation = 1.5*np.pi/4\n",
    "\n",
    "show(p)"
   ]
  },
  {
   "cell_type": "code",
   "execution_count": null,
   "id": "b17d2a56-8071-4d60-aadd-05ef5f78ed74",
   "metadata": {},
   "outputs": [],
   "source": []
  }
 ],
 "metadata": {
  "kernelspec": {
   "display_name": "Python 3 (ipykernel)",
   "language": "python",
   "name": "python3"
  },
  "language_info": {
   "codemirror_mode": {
    "name": "ipython",
    "version": 3
   },
   "file_extension": ".py",
   "mimetype": "text/x-python",
   "name": "python",
   "nbconvert_exporter": "python",
   "pygments_lexer": "ipython3",
   "version": "3.12.3"
  }
 },
 "nbformat": 4,
 "nbformat_minor": 5
}
